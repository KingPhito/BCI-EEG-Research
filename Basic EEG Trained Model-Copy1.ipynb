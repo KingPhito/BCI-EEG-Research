{
 "cells": [
  {
   "cell_type": "markdown",
   "metadata": {},
   "source": [
    "# Training a Simple CNN with EEG Data using fastai"
   ]
  },
  {
   "cell_type": "markdown",
   "metadata": {},
   "source": [
    "This is a test project I am using to learn fastai v1 for structured data. I am using data from a past Kaggle competition to train a model that can detect certain events from EEG brainwave data. The events would then trigger certain gestures in a prosthetic device for example. My goal is to get perfect/near perfect predictions on the validation data. You can get more info on the contest/dataset [here](https://www.kaggle.com/c/grasp-and-lift-eeg-detection/)"
   ]
  },
  {
   "cell_type": "markdown",
   "metadata": {},
   "source": [
    "## Download data"
   ]
  },
  {
   "cell_type": "markdown",
   "metadata": {},
   "source": [
    "You will need to install kaggle-cli(via pip or something else)"
   ]
  },
  {
   "cell_type": "code",
   "execution_count": null,
   "metadata": {},
   "outputs": [],
   "source": [
    "!kg download -u [usuername] -p [password] -c grasp-and-lift-eeg-detection -f train.zip"
   ]
  },
  {
   "cell_type": "code",
   "execution_count": null,
   "metadata": {},
   "outputs": [],
   "source": [
    "!unzip train.zip data/train/"
   ]
  },
  {
   "cell_type": "markdown",
   "metadata": {},
   "source": [
    "## Setup data directories"
   ]
  },
  {
   "cell_type": "markdown",
   "metadata": {},
   "source": [
    "I have a train and valid folder. I chose to use the final subject(12) from the for validation."
   ]
  },
  {
   "cell_type": "markdown",
   "metadata": {},
   "source": [
    "## Making sure pytorch is recognizing my gpu"
   ]
  },
  {
   "cell_type": "code",
   "execution_count": 1,
   "metadata": {},
   "outputs": [
    {
     "data": {
      "text/plain": [
       "0"
      ]
     },
     "execution_count": 1,
     "metadata": {},
     "output_type": "execute_result"
    }
   ],
   "source": [
    "import torch\n",
    "torch.cuda.current_device()"
   ]
  },
  {
   "cell_type": "code",
   "execution_count": 2,
   "metadata": {},
   "outputs": [
    {
     "data": {
      "text/plain": [
       "'GeForce GTX 1080'"
      ]
     },
     "execution_count": 2,
     "metadata": {},
     "output_type": "execute_result"
    }
   ],
   "source": [
    "torch.cuda.get_device_name(0)"
   ]
  },
  {
   "cell_type": "markdown",
   "metadata": {},
   "source": [
    "## Data cleaning and organization"
   ]
  },
  {
   "cell_type": "markdown",
   "metadata": {},
   "source": [
    "Basic imports and specifying data path"
   ]
  },
  {
   "cell_type": "code",
   "execution_count": 3,
   "metadata": {},
   "outputs": [],
   "source": [
    "from fastai.tabular import * \n",
    "import pandas as pd\n",
    "import numpy as np\n",
    "\n",
    "path = './data/train'"
   ]
  },
  {
   "cell_type": "markdown",
   "metadata": {},
   "source": [
    "The data is divided into several csv files, so first we're going to merge everything. We're specifying dtypes here because this is quite a bit of data, and we're going to run into some memory issues otherwise(I have 32GB of DDR4 and it wasn't enough before specifying dtypes). The *df* variable holds all our variables(all continuous) and the *labels* variable holds are dependent variables which were in the **events** csv files. We'll merge these into one dataframe further down."
   ]
  },
  {
   "cell_type": "code",
   "execution_count": null,
   "metadata": {},
   "outputs": [],
   "source": [
    "subjects = 12\n",
    "series = 9\n",
    "df = None\n",
    "labels = None\n",
    "types1 = {\n",
    "    'Id': 'str', 'Fp1': 'int16', 'Fp2': 'int16', 'F7': 'int16', 'F3': 'int16', 'Fz': 'int16',\n",
    "    'F4': 'int16', 'F8': 'int16', 'FC5': 'int16', 'FC1': 'int16', 'FC2': 'int16', 'FC6': 'int16',\n",
    "    'T7': 'int16', 'C3': 'int16', 'Cz': 'int16', 'C4': 'int16', 'T8': 'int16', 'TP9': 'int16',\n",
    "    'CP5': 'int16', 'CP1': 'int16', 'CP2': 'int16', 'CP6': 'int16', 'TP10': 'int16', 'P7': 'int16',\n",
    "    'P3': 'int16', 'Pz': 'int16', 'P4': 'int16', 'P8': 'int16', 'PO9': 'int16', 'O1': 'int16',\n",
    "    'Oz': 'int16', 'O2': 'int16', 'PO10': 'int16'\n",
    "}\n",
    "types2 = {\n",
    "    'Id': 'str', 'HandStart': 'int8', 'FirstDigitTouch': 'int8', 'LiftOff': 'int8', \n",
    "    'Replace': 'int8', 'BothReleased': 'int8'\n",
    "}\n",
    "\n",
    "for sj in range(1, subjects):\n",
    "    for sr in range(1, series):\n",
    "        c_df = pd.read_csv(f'{path}/subj{sj}_series{sr}_data.csv', dtype=types1)\n",
    "        df = c_df if df is None else df.append(c_df, ignore_index=True)\n",
    "        c_label = pd.read_csv(f'{path}/subj{sj}_series{sr}_events.csv', dtype=types2)\n",
    "        labels = c_label if labels is None else labels.append(c_label, ignore_index=True)\n",
    "df.tail()"
   ]
  },
  {
   "cell_type": "markdown",
   "metadata": {},
   "source": [
    "Here we merge our training variables with the dependent variables and print the head to verify."
   ]
  },
  {
   "cell_type": "code",
   "execution_count": null,
   "metadata": {},
   "outputs": [],
   "source": [
    "merge = pd.merge(df, labels, on='id')\n",
    "merge.head()"
   ]
  },
  {
   "cell_type": "markdown",
   "metadata": {},
   "source": [
    "Saving to a feather file to load later on and continue from here going forward. Data seems the same after reading from file."
   ]
  },
  {
   "cell_type": "code",
   "execution_count": null,
   "metadata": {},
   "outputs": [],
   "source": [
    "merge.to_feather(f'{path}/merge.feather')"
   ]
  },
  {
   "cell_type": "code",
   "execution_count": 4,
   "metadata": {},
   "outputs": [
    {
     "data": {
      "text/html": [
       "<div>\n",
       "<style scoped>\n",
       "    .dataframe tbody tr th:only-of-type {\n",
       "        vertical-align: middle;\n",
       "    }\n",
       "\n",
       "    .dataframe tbody tr th {\n",
       "        vertical-align: top;\n",
       "    }\n",
       "\n",
       "    .dataframe thead th {\n",
       "        text-align: right;\n",
       "    }\n",
       "</style>\n",
       "<table border=\"1\" class=\"dataframe\">\n",
       "  <thead>\n",
       "    <tr style=\"text-align: right;\">\n",
       "      <th></th>\n",
       "      <th>id</th>\n",
       "      <th>Fp1</th>\n",
       "      <th>Fp2</th>\n",
       "      <th>F7</th>\n",
       "      <th>F3</th>\n",
       "      <th>Fz</th>\n",
       "      <th>F4</th>\n",
       "      <th>F8</th>\n",
       "      <th>FC5</th>\n",
       "      <th>FC1</th>\n",
       "      <th>...</th>\n",
       "      <th>O1</th>\n",
       "      <th>Oz</th>\n",
       "      <th>O2</th>\n",
       "      <th>PO10</th>\n",
       "      <th>HandStart</th>\n",
       "      <th>FirstDigitTouch</th>\n",
       "      <th>BothStartLoadPhase</th>\n",
       "      <th>LiftOff</th>\n",
       "      <th>Replace</th>\n",
       "      <th>BothReleased</th>\n",
       "    </tr>\n",
       "  </thead>\n",
       "  <tbody>\n",
       "    <tr>\n",
       "      <th>0</th>\n",
       "      <td>subj1_series1_0</td>\n",
       "      <td>-31</td>\n",
       "      <td>363</td>\n",
       "      <td>211</td>\n",
       "      <td>121</td>\n",
       "      <td>211</td>\n",
       "      <td>15</td>\n",
       "      <td>717</td>\n",
       "      <td>279</td>\n",
       "      <td>35</td>\n",
       "      <td>...</td>\n",
       "      <td>459</td>\n",
       "      <td>173</td>\n",
       "      <td>120</td>\n",
       "      <td>704</td>\n",
       "      <td>0</td>\n",
       "      <td>0</td>\n",
       "      <td>0</td>\n",
       "      <td>0</td>\n",
       "      <td>0</td>\n",
       "      <td>0</td>\n",
       "    </tr>\n",
       "    <tr>\n",
       "      <th>1</th>\n",
       "      <td>subj1_series1_1</td>\n",
       "      <td>-29</td>\n",
       "      <td>342</td>\n",
       "      <td>216</td>\n",
       "      <td>123</td>\n",
       "      <td>222</td>\n",
       "      <td>200</td>\n",
       "      <td>595</td>\n",
       "      <td>329</td>\n",
       "      <td>43</td>\n",
       "      <td>...</td>\n",
       "      <td>409</td>\n",
       "      <td>141</td>\n",
       "      <td>83</td>\n",
       "      <td>737</td>\n",
       "      <td>0</td>\n",
       "      <td>0</td>\n",
       "      <td>0</td>\n",
       "      <td>0</td>\n",
       "      <td>0</td>\n",
       "      <td>0</td>\n",
       "    </tr>\n",
       "    <tr>\n",
       "      <th>2</th>\n",
       "      <td>subj1_series1_2</td>\n",
       "      <td>-172</td>\n",
       "      <td>278</td>\n",
       "      <td>105</td>\n",
       "      <td>93</td>\n",
       "      <td>222</td>\n",
       "      <td>511</td>\n",
       "      <td>471</td>\n",
       "      <td>280</td>\n",
       "      <td>12</td>\n",
       "      <td>...</td>\n",
       "      <td>440</td>\n",
       "      <td>141</td>\n",
       "      <td>62</td>\n",
       "      <td>677</td>\n",
       "      <td>0</td>\n",
       "      <td>0</td>\n",
       "      <td>0</td>\n",
       "      <td>0</td>\n",
       "      <td>0</td>\n",
       "      <td>0</td>\n",
       "    </tr>\n",
       "    <tr>\n",
       "      <th>3</th>\n",
       "      <td>subj1_series1_3</td>\n",
       "      <td>-272</td>\n",
       "      <td>263</td>\n",
       "      <td>-52</td>\n",
       "      <td>99</td>\n",
       "      <td>208</td>\n",
       "      <td>511</td>\n",
       "      <td>428</td>\n",
       "      <td>261</td>\n",
       "      <td>27</td>\n",
       "      <td>...</td>\n",
       "      <td>437</td>\n",
       "      <td>139</td>\n",
       "      <td>58</td>\n",
       "      <td>592</td>\n",
       "      <td>0</td>\n",
       "      <td>0</td>\n",
       "      <td>0</td>\n",
       "      <td>0</td>\n",
       "      <td>0</td>\n",
       "      <td>0</td>\n",
       "    </tr>\n",
       "    <tr>\n",
       "      <th>4</th>\n",
       "      <td>subj1_series1_4</td>\n",
       "      <td>-265</td>\n",
       "      <td>213</td>\n",
       "      <td>-67</td>\n",
       "      <td>99</td>\n",
       "      <td>155</td>\n",
       "      <td>380</td>\n",
       "      <td>476</td>\n",
       "      <td>353</td>\n",
       "      <td>32</td>\n",
       "      <td>...</td>\n",
       "      <td>446</td>\n",
       "      <td>171</td>\n",
       "      <td>67</td>\n",
       "      <td>581</td>\n",
       "      <td>0</td>\n",
       "      <td>0</td>\n",
       "      <td>0</td>\n",
       "      <td>0</td>\n",
       "      <td>0</td>\n",
       "      <td>0</td>\n",
       "    </tr>\n",
       "  </tbody>\n",
       "</table>\n",
       "<p>5 rows × 39 columns</p>\n",
       "</div>"
      ],
      "text/plain": [
       "                id  Fp1  Fp2   F7   F3   Fz   F4   F8  FC5  FC1      ...       \\\n",
       "0  subj1_series1_0  -31  363  211  121  211   15  717  279   35      ...        \n",
       "1  subj1_series1_1  -29  342  216  123  222  200  595  329   43      ...        \n",
       "2  subj1_series1_2 -172  278  105   93  222  511  471  280   12      ...        \n",
       "3  subj1_series1_3 -272  263  -52   99  208  511  428  261   27      ...        \n",
       "4  subj1_series1_4 -265  213  -67   99  155  380  476  353   32      ...        \n",
       "\n",
       "    O1   Oz   O2  PO10  HandStart  FirstDigitTouch  BothStartLoadPhase  \\\n",
       "0  459  173  120   704          0                0                   0   \n",
       "1  409  141   83   737          0                0                   0   \n",
       "2  440  141   62   677          0                0                   0   \n",
       "3  437  139   58   592          0                0                   0   \n",
       "4  446  171   67   581          0                0                   0   \n",
       "\n",
       "   LiftOff  Replace  BothReleased  \n",
       "0        0        0             0  \n",
       "1        0        0             0  \n",
       "2        0        0             0  \n",
       "3        0        0             0  \n",
       "4        0        0             0  \n",
       "\n",
       "[5 rows x 39 columns]"
      ]
     },
     "execution_count": 4,
     "metadata": {},
     "output_type": "execute_result"
    }
   ],
   "source": [
    "import feather\n",
    "merge = feather.read_dataframe(f'{path}/merge.feather')\n",
    "merge.head()"
   ]
  },
  {
   "cell_type": "markdown",
   "metadata": {},
   "source": [
    "Specifying continuous and dependent variables. As stated earlier this is a multi-classification problem so we need we need multiple dependent variables. And of course all other variables are continuous."
   ]
  },
  {
   "cell_type": "code",
   "execution_count": 5,
   "metadata": {},
   "outputs": [],
   "source": [
    "cont_vars = [\n",
    "    'Fp1', 'Fp2', 'F7', 'F3', 'Fz', 'F4', 'F8', 'FC5', 'FC1', 'FC2',\n",
    "    'FC6', 'T7', 'C3', 'Cz', 'C4', 'T8', 'TP9', 'CP5', 'CP1', 'CP2',\n",
    "    'CP6', 'TP10', 'P7', 'P3', 'Pz', 'P4', 'P8', 'PO9', 'O1', 'Oz',\n",
    "    'O2', 'PO10'\n",
    "]\n",
    "dept_vars = [\n",
    "    'HandStart', 'FirstDigitTouch', 'LiftOff', 'Replace', 'BothReleased'\n",
    "]"
   ]
  },
  {
   "cell_type": "code",
   "execution_count": 6,
   "metadata": {},
   "outputs": [],
   "source": [
    "procs = [FillMissing, Categorify, Normalize]\n",
    "\n",
    "test = TabularList.from_df(merge.iloc[800:1000].copy(), path=path, cont_names=cont_vars)\n",
    "data = (TabularList.from_df(merge, path=path, cont_names=cont_vars, procs=procs)\n",
    "                           .split_by_idx(list(range(800,1000)))\n",
    "                           .label_from_df(cols=list(dept_vars))\n",
    "                           .add_test(test)\n",
    "                           .databunch())"
   ]
  },
  {
   "cell_type": "markdown",
   "metadata": {},
   "source": [
    "Here is where we are having issues. Training doesn't seem to happen. I'm not really seeing gpu utilization and eventually the process silently stops but the notebook gets stuck in the running mode. I'm assuming the process just stops because it abruptly drops to 0% cpu utilization, but it also keeps a chunk of memory until I kill the kernel."
   ]
  },
  {
   "cell_type": "code",
   "execution_count": null,
   "metadata": {},
   "outputs": [],
   "source": [
    "data.show_batch(rows=10)"
   ]
  },
  {
   "cell_type": "code",
   "execution_count": null,
   "metadata": {
    "scrolled": true
   },
   "outputs": [
    {
     "data": {
      "text/html": [
       "\n",
       "    <div>\n",
       "        <style>\n",
       "            /* Turns off some styling */\n",
       "            progress {\n",
       "                /* gets rid of default border in Firefox and Opera. */\n",
       "                border: none;\n",
       "                /* Needs to be in here for Safari polyfill so background images work as expected. */\n",
       "                background-size: auto;\n",
       "            }\n",
       "            .progress-bar-interrupted, .progress-bar-interrupted::-webkit-progress-bar {\n",
       "                background: #F44336;\n",
       "            }\n",
       "        </style>\n",
       "      <progress value='0' class='' max='1', style='width:300px; height:20px; vertical-align: middle;'></progress>\n",
       "      0.00% [0/1 00:00<00:00]\n",
       "    </div>\n",
       "    \n",
       "<table style='width:300px; margin-bottom:10px'>\n",
       "  <tr>\n",
       "    <th>epoch</th>\n",
       "    <th>train_loss</th>\n",
       "    <th>valid_loss</th>\n",
       "    <th>accuracy</th>\n",
       "  </tr>\n",
       "</table>\n",
       "\n",
       "\n",
       "    <div>\n",
       "        <style>\n",
       "            /* Turns off some styling */\n",
       "            progress {\n",
       "                /* gets rid of default border in Firefox and Opera. */\n",
       "                border: none;\n",
       "                /* Needs to be in here for Safari polyfill so background images work as expected. */\n",
       "                background-size: auto;\n",
       "            }\n",
       "            .progress-bar-interrupted, .progress-bar-interrupted::-webkit-progress-bar {\n",
       "                background: #F44336;\n",
       "            }\n",
       "        </style>\n",
       "      <progress value='0' class='' max='255900', style='width:300px; height:20px; vertical-align: middle;'></progress>\n",
       "      0.00% [0/255900 00:00<00:00]\n",
       "    </div>\n",
       "    "
      ],
      "text/plain": [
       "<IPython.core.display.HTML object>"
      ]
     },
     "metadata": {},
     "output_type": "display_data"
    }
   ],
   "source": [
    "from fastai.metrics import *\n",
    "\n",
    "learn = tabular_learner(data, layers=[200,100], metrics=accuracy)\n",
    "learn.fit(1, 1e-2)"
   ]
  },
  {
   "cell_type": "code",
   "execution_count": null,
   "metadata": {},
   "outputs": [],
   "source": [
    "learn.save('./models/eeg-1')"
   ]
  },
  {
   "cell_type": "code",
   "execution_count": null,
   "metadata": {},
   "outputs": [],
   "source": [
    "path2 = './data/valid'\n",
    "\n",
    "df2 = None\n",
    "labels2 = None\n",
    "\n",
    "for sr in range(1, series):\n",
    "    c_df2 = pd.read_csv(f'{path2}/subj12_series{sr}_data.csv', dtypes=types1)\n",
    "    df2 = c_df2 if df2 is None else df2.append(c_df2, ignore_index=True)\n",
    "    c_label2 = pd.read_csv(f'{path2}/subj12_series{sr}_events.csv')\n",
    "    labels2 = c_label2 if labels2 is None else labels2.append(c_label2, ignore_index=True)\n",
    "df2.tail()"
   ]
  },
  {
   "cell_type": "code",
   "execution_count": null,
   "metadata": {},
   "outputs": [],
   "source": [
    "merge2 = pd.merge(df2, labels2, on='id')\n",
    "merge2.head()"
   ]
  },
  {
   "cell_type": "code",
   "execution_count": null,
   "metadata": {},
   "outputs": [],
   "source": [
    "learn.predict(merge2.iloc[0])"
   ]
  }
 ],
 "metadata": {
  "kernelspec": {
   "display_name": "Python 3",
   "language": "python",
   "name": "python3"
  },
  "language_info": {
   "codemirror_mode": {
    "name": "ipython",
    "version": 3
   },
   "file_extension": ".py",
   "mimetype": "text/x-python",
   "name": "python",
   "nbconvert_exporter": "python",
   "pygments_lexer": "ipython3",
   "version": "3.7.1"
  }
 },
 "nbformat": 4,
 "nbformat_minor": 2
}
