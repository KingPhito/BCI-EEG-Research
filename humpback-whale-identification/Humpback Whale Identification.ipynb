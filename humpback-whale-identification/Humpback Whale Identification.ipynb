{
 "cells": [
  {
   "cell_type": "code",
   "execution_count": null,
   "metadata": {},
   "outputs": [],
   "source": [
    "!kg download -u rdugue89 -p 6fqCZ3qpN4rAKGRNRRH3 -c humpback-whale-identification"
   ]
  },
  {
   "cell_type": "code",
   "execution_count": null,
   "metadata": {},
   "outputs": [],
   "source": [
    "%config IPCompleter.greedy=True"
   ]
  },
  {
   "cell_type": "code",
   "execution_count": null,
   "metadata": {},
   "outputs": [],
   "source": [
    "import os\n",
    "import pandas as pd\n",
    "import numpy as np\n",
    "from fastai.vision import *\n",
    "from fastai.basics import *\n",
    "import random\n",
    "import shutil \n",
    "from fastai.metrics import accuracy\n",
    "import torch\n",
    "from torch.utils.data import Dataset, DataLoader\n",
    "from torchvision import transforms, utils"
   ]
  },
  {
   "cell_type": "code",
   "execution_count": null,
   "metadata": {},
   "outputs": [],
   "source": [
    "torch.__version__"
   ]
  },
  {
   "cell_type": "code",
   "execution_count": null,
   "metadata": {},
   "outputs": [],
   "source": [
    "path = './data'\n",
    "tr_path = f'{path}/train'\n",
    "test_path = f'{path}/test'"
   ]
  },
  {
   "cell_type": "code",
   "execution_count": null,
   "metadata": {},
   "outputs": [],
   "source": [
    "df = pd.read_csv(f'{path}/train.csv')\n",
    "df.head()"
   ]
  },
  {
   "cell_type": "code",
   "execution_count": null,
   "metadata": {},
   "outputs": [],
   "source": [
    "rows = len(df.index)\n",
    "tr_path = f'{path}/train'\n",
    "\n",
    "for r in range(rows):\n",
    "    directory = f'{tr_path}/{df.iloc[r][1]}'\n",
    "    old_file = f'{tr_path}/{df.iloc[r][0]}'\n",
    "    new_file = f'{directory}/{df.iloc[r][0]}'\n",
    "    if not os.path.exists(directory):\n",
    "        os.makedirs(directory)\n",
    "    if os.path.exists(old_file):\n",
    "        shutil.move(old_file, new_file)"
   ]
  },
  {
   "cell_type": "code",
   "execution_count": null,
   "metadata": {},
   "outputs": [],
   "source": [
    "import string\n",
    "\n",
    "tfms = get_transforms()\n",
    "\n",
    "def get_img(r):\n",
    "    return open_image(f'{path}/{df.iloc[r][0]}')\n",
    "\n",
    "def get_sample_size(l):\n",
    "    directory = f'{tr_path}/{l}'\n",
    "    return len([f for f in os.listdir(directory) if os.path.isfile(f)])\n",
    "\n",
    "def get_category_list(l):\n",
    "    directory = f'{tr_path}/{l}'\n",
    "    imgs = [f'{directory}/{df.iloc[r][0]}' for r in range(rows) if df.iloc[r][1] == l]\n",
    "    return [open_image(imgs[i]) for i in range(len(imgs))]\n",
    "\n",
    "def do_random_tfms(l):\n",
    "    directory = f'{tr_path}/{l}'\n",
    "    imgs = get_category_list(l)\n",
    "    while len(imgs) < 5:\n",
    "        imgs.append(imgs[random.randint(0,len(imgs)-1)].apply_tfms(tfms[random.randint(0,len(tfms)-1)]))\n",
    "        name = ''.join(random.choices(string.ascii_uppercase + string.digits, k=9))\n",
    "        save_pth = f'{directory}/{name}.jpg'\n",
    "        imgs[-1].save(save_pth)\n",
    "    \n",
    "for label in df.iloc[:, 1].tolist():\n",
    "    if label != 'new_whale':\n",
    "        if get_sample_size(label) < 5:\n",
    "            do_random_tfms(label)"
   ]
  },
  {
   "cell_type": "code",
   "execution_count": null,
   "metadata": {},
   "outputs": [],
   "source": [
    "test_imgs = [f for f in os.listdir(test_path) if os.path.isfile(os.path.join(test_path, f))]"
   ]
  },
  {
   "cell_type": "code",
   "execution_count": null,
   "metadata": {},
   "outputs": [],
   "source": [
    "data = (ImageItemList.from_folder(path)\n",
    "        .random_split_by_pct()\n",
    "        .label_from_folder()\n",
    "        .transform(None, size=256)\n",
    "        .add_test_folder(test_path)\n",
    "        .databunch(bs=64)\n",
    "        .normalize(imagenet_stats)) "
   ]
  },
  {
   "cell_type": "code",
   "execution_count": null,
   "metadata": {},
   "outputs": [],
   "source": [
    "data.show_batch(rows=4)"
   ]
  },
  {
   "cell_type": "code",
   "execution_count": null,
   "metadata": {},
   "outputs": [],
   "source": [
    "learn = create_cnn(data, models.resnet50, metrics=accuracy)"
   ]
  },
  {
   "cell_type": "code",
   "execution_count": null,
   "metadata": {},
   "outputs": [],
   "source": [
    "learn.lr_find()"
   ]
  },
  {
   "cell_type": "code",
   "execution_count": null,
   "metadata": {},
   "outputs": [],
   "source": [
    "learn.recorder.plot()"
   ]
  },
  {
   "cell_type": "code",
   "execution_count": null,
   "metadata": {},
   "outputs": [],
   "source": [
    "learn.fit_one_cycle(1, 1e-02)"
   ]
  },
  {
   "cell_type": "code",
   "execution_count": null,
   "metadata": {},
   "outputs": [],
   "source": [
    "learn.save('whales')"
   ]
  },
  {
   "cell_type": "code",
   "execution_count": null,
   "metadata": {},
   "outputs": [],
   "source": [
    "learn.load('whales')"
   ]
  },
  {
   "cell_type": "code",
   "execution_count": null,
   "metadata": {
    "scrolled": true
   },
   "outputs": [],
   "source": [
    "learn.unfreeze()\n",
    "learn.fit_one_cycle(2, slice(1e-5,3e-4), pct_start=0.05)"
   ]
  },
  {
   "cell_type": "code",
   "execution_count": null,
   "metadata": {},
   "outputs": [],
   "source": [
    "def top_5_preds(preds): return np.argsort(preds.numpy())[:, ::-1][:, :5]\n",
    "\n",
    "def top_5_pred_labels(preds, classes):\n",
    "    top_5 = top_5_preds(preds)\n",
    "    labels = []\n",
    "    for i in range(top_5.shape[0]):\n",
    "        labels.append(' '.join([classes[idx] for idx in top_5[i]]))\n",
    "    return labels\n",
    "\n",
    "def create_submission(preds, data, name, classes=None):\n",
    "    if not classes: classes = data.classes\n",
    "    sub = pd.DataFrame({'Image': [path.name for path in data.test_ds.x.items]})\n",
    "    sub['Id'] = top_5_pred_labels(preds, classes)\n",
    "    sub.to_csv(f'subs/{name}.csv.gz', index=False, compression='gzip')"
   ]
  },
  {
   "cell_type": "code",
   "execution_count": null,
   "metadata": {},
   "outputs": [],
   "source": [
    "preds, _ = learn.get_preds(DatasetType.Test)"
   ]
  },
  {
   "cell_type": "code",
   "execution_count": null,
   "metadata": {},
   "outputs": [],
   "source": [
    "name = 'preds-1'\n",
    "create_submission(preds, learn.data, name)"
   ]
  },
  {
   "cell_type": "code",
   "execution_count": null,
   "metadata": {},
   "outputs": [],
   "source": [
    "pd.read_csv(f'submissions /{name}.csv.gz').head()"
   ]
  }
 ],
 "metadata": {
  "kernelspec": {
   "display_name": "Python (ML)",
   "language": "python",
   "name": "python3"
  },
  "language_info": {
   "codemirror_mode": {
    "name": "ipython",
    "version": 3
   },
   "file_extension": ".py",
   "mimetype": "text/x-python",
   "name": "python",
   "nbconvert_exporter": "python",
   "pygments_lexer": "ipython3",
   "version": "3.7.2"
  }
 },
 "nbformat": 4,
 "nbformat_minor": 2
}
